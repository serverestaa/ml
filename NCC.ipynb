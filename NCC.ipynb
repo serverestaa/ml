{
 "cells": [
  {
   "cell_type": "code",
   "metadata": {
    "ExecuteTime": {
     "end_time": "2025-02-23T16:39:05.528775Z",
     "start_time": "2025-02-23T16:39:05.524480Z"
    }
   },
   "source": [
    "import matplotlib.pylab as pl\n",
    "import scipy as sp\n",
    "import numpy as np\n",
    "from scipy.io import loadmat\n",
    "import pdb"
   ],
   "outputs": [],
   "execution_count": 127
  },
  {
   "cell_type": "code",
   "metadata": {
    "ExecuteTime": {
     "end_time": "2025-02-23T16:39:05.539353Z",
     "start_time": "2025-02-23T16:39:05.536363Z"
    }
   },
   "source": [
    "def load_data(fname):\n",
    "    # load the data\n",
    "    data = loadmat(fname)\n",
    "    # extract images and labels\n",
    "    imgs = data['data_patterns']\n",
    "    labels = data['data_labels']\n",
    "    return imgs, labels"
   ],
   "outputs": [],
   "execution_count": 128
  },
  {
   "cell_type": "code",
   "metadata": {
    "ExecuteTime": {
     "end_time": "2025-02-23T16:39:05.558013Z",
     "start_time": "2025-02-23T16:39:05.554563Z"
    }
   },
   "source": [
    "def ncc_train(X,Y,Xtest,Ytest):\n",
    "    # initialize accuracy vector\n",
    "    acc = np.zeros(X.shape[-1])\n",
    "    # unique class labels\n",
    "    cids = np.unique(Y)\n",
    "    # initialize mu, shape should be (256,2) - we have 2 centroids and each centroid is a vector with 256 elements\n",
    "    mu = np.zeros((X.shape[0], len(cids)))\n",
    "    # initialize counter , shape should be (2,) - we should know what class is this and how many samples we already have that's why we have size 2\n",
    "    Nk = np.zeros(len(cids))\n",
    "    # loop over all data points in training set\n",
    "    for n in np.arange(X.shape[-1]):\n",
    "        # set idx to current class label\n",
    "        idx = (cids==Y[n])\n",
    "        # update mu\n",
    "        mu[:, idx] = (mu[:, idx] * Nk[idx] + X[:, n].reshape(-1,1)) / (Nk[idx] + 1)\n",
    "        # update counter\n",
    "        Nk[idx] = Nk[idx]+1\n",
    "        # predict test labels with current mu\n",
    "        yhat=predict_ncc(Xtest,mu)\n",
    "        # calculate current accuracy with test labels\n",
    "        acc[n]= np.mean(yhat==Ytest)\n",
    "    # return weight vector and error\n",
    "    return mu,acc\n"
   ],
   "outputs": [],
   "execution_count": 129
  },
  {
   "cell_type": "code",
   "metadata": {
    "ExecuteTime": {
     "end_time": "2025-02-23T16:39:05.570980Z",
     "start_time": "2025-02-23T16:39:05.568452Z"
    }
   },
   "source": [
    "def predict_ncc(X,mu):\n",
    "    # do nearest-centroid classification\n",
    "    # initialize distance matrix\n",
    "    NCdist=np.zeros((X.shape[1], mu.shape[1]))\n",
    "    # compute euclidean distance to centroids\n",
    "    # loop over both classes\n",
    "    for ic in np.arange(mu.shape[-1]):\n",
    "        # calculate distances of every point to centroid\n",
    "        #\n",
    "        NCdist[:, ic]=np.sqrt(np.sum((X - mu[:, ic].reshape(-1, 1))**2, axis=0))\n",
    "        \n",
    "    # assign the class label of the nearest (euclidean distance) centroid\n",
    "    idx = NCdist.argmin(axis=1)\n",
    "    Yclass = np.where(idx == 0, -1, 1)\n",
    "    return Yclass\n"
   ],
   "outputs": [],
   "execution_count": 130
  },
  {
   "cell_type": "code",
   "metadata": {
    "ExecuteTime": {
     "end_time": "2025-02-23T16:39:06.016684Z",
     "start_time": "2025-02-23T16:39:05.580530Z"
    }
   },
   "source": [
    "digit=0\n",
    "\n",
    "# load the data\n",
    "fname = \"usps.mat\"\n",
    "imgs,labels = load_data(fname)\n",
    "# we only want to classify one digit \n",
    "labels = np.sign((labels[digit,:]>0)-.5)\n",
    "\n",
    "# please think about what the next lines do\n",
    "permidx = np.random.permutation(np.arange(imgs.shape[-1]))\n",
    "trainpercent = 70.\n",
    "stopat = np.floor(labels.shape[-1]*trainpercent/100.)\n",
    "stopat= int(stopat)\n",
    "\n",
    "# cut segment data into train and test set into two non-overlapping sets:\n",
    "X = imgs[:, permidx[:stopat]]\n",
    "Y = labels[permidx[:stopat]]\n",
    "Xtest = imgs[:, permidx[stopat:]]\n",
    "Ytest = labels[permidx[stopat:]]\n",
    "#check that chapes of X and Y make sense..\n",
    "\n",
    "# now comes the model estimation..\n",
    "mu,acc_ncc = ncc_train(X,Y,Xtest,Ytest)\n"
   ],
   "outputs": [],
   "execution_count": 131
  },
  {
   "cell_type": "code",
   "metadata": {
    "ExecuteTime": {
     "end_time": "2025-02-23T16:39:06.153677Z",
     "start_time": "2025-02-23T16:39:06.027608Z"
    }
   },
   "source": [
    "#save the results as a figure\n",
    "fig = pl.figure(figsize=(10,5))\n",
    "ax1 = fig.add_subplot(1,2,1)\n",
    "ax1.plot(acc_ncc*100.)\n",
    "pl.xlabel('Iterations')\n",
    "pl.title('NCC')\n",
    "pl.ylabel('Accuracy [%]')\n",
    "\n",
    "# and imshow the weight vector\n",
    "ax2 = fig.add_subplot(1,2,2)\n",
    "# reshape weight vector\n",
    "weights = np.reshape(mu[:,-1],(int(np.sqrt(imgs.shape[0])),int(np.sqrt(imgs.shape[0]))))\n",
    "# plot the weight image\n",
    "imgh = ax2.imshow(weights)\n",
    "# with colorbar\n",
    "pl.colorbar(imgh)\n",
    "ax2.set_title('NCC Centroid')\n",
    "# remove axis ticks\n",
    "pl.xticks(())\n",
    "pl.yticks(())\n",
    "# remove axis ticks\n",
    "pl.xticks(())\n",
    "pl.yticks(())\n",
    "\n",
    "# write the picture to pdf\n",
    "fname = 'NCC_digits-%d.pdf'%digit\n",
    "pl.savefig(fname)"
   ],
   "outputs": [
    {
     "data": {
      "text/plain": [
       "<Figure size 1000x500 with 3 Axes>"
      ],
      "image/png": "[encoded data removed]"
     },
     "metadata": {},
     "output_type": "display_data"
    }
   ],
   "execution_count": 132
  },
  {
   "cell_type": "code",
   "metadata": {
    "ExecuteTime": {
     "end_time": "2025-02-23T16:39:06.167493Z",
     "start_time": "2025-02-23T16:39:06.166024Z"
    }
   },
   "source": [],
   "outputs": [],
   "execution_count": null
  }
 ],
 "metadata": {
  "kernelspec": {
   "display_name": "Python 3 (ipykernel)",
   "language": "python",
   "name": "python3"
  },
  "language_info": {
   "codemirror_mode": {
    "name": "ipython",
    "version": 3
   },
   "file_extension": ".py",
   "mimetype": "text/x-python",
   "name": "python",
   "nbconvert_exporter": "python",
   "pygments_lexer": "ipython3",
   "version": "3.7.13"
  }
 },
 "nbformat": 4,
 "nbformat_minor": 2
}
