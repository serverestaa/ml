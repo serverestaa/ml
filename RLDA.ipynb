{
 "cells": [
  {
   "cell_type": "code",
   "metadata": {
    "ExecuteTime": {
     "end_time": "2025-03-18T12:39:16.248667Z",
     "start_time": "2025-03-18T12:39:16.228211Z"
    }
   },
   "source": [
    "import pylab as pl\n",
    "import numpy as np\n",
    "import scipy as sp\n",
    "from numpy.linalg import eig\n",
    "from scipy.io import loadmat\n",
    "import pdb"
   ],
   "outputs": [],
   "execution_count": 7
  },
  {
   "cell_type": "code",
   "metadata": {
    "ExecuteTime": {
     "end_time": "2025-03-18T12:39:16.259480Z",
     "start_time": "2025-03-18T12:39:16.256031Z"
    }
   },
   "source": [
    "def load_data(fname):\n",
    "    # load the data\n",
    "    data = loadmat(fname)\n",
    "    # extract images and labels\n",
    "    X = data['X']\n",
    "    Y = data['Y']\n",
    "    # collapse the time-electrode dimensions\n",
    "    X = np.reshape(X,(X.shape[0]*X.shape[1],X.shape[2]))\n",
    "    # transform the labels to (-1,1)\n",
    "    Y = np.sign((Y[0,:]>0) -.5)\n",
    "    # pick only first 500 (1000, 3000) datapoints and compare optimal shrinkage\n",
    "    X = X[:, :500]\n",
    "    Y = Y[:500]\n",
    "    print(X.shape)\n",
    "    return X,Y"
   ],
   "outputs": [],
   "execution_count": 8
  },
  {
   "cell_type": "code",
   "metadata": {
    "collapsed": true,
    "ExecuteTime": {
     "end_time": "2025-03-18T12:39:16.292949Z",
     "start_time": "2025-03-18T12:39:16.287469Z"
    }
   },
   "source": [
    "def crossvalidate_nested(X,Y,f,gammas):\n",
    "    ''' \n",
    "    Optimize shrinkage parameter for generalization performance \n",
    "    Input:\tX\tdata (dims-by-samples)\n",
    "                Y\tlabels (1-by-samples)\n",
    "                f\tnumber of cross-validation folds\n",
    "                gammas\ta selection of shrinkage parameters\n",
    "                trainfunction \ttrains linear classifier, returns weight vector and bias term\n",
    "    '''\n",
    "    # the next two lines reshape vector of indices in to a matrix:\n",
    "    # number of rows = # of folds\n",
    "    # number of columns = # of total data-points / # folds\n",
    "    N = f*int(np.floor(X.shape[-1]/f))\n",
    "    idx = np.reshape(np.arange(N),(f,int(np.floor(N/f))))\n",
    "    pdb.set_trace()\n",
    "    acc_test = np.zeros((f))\n",
    "    testgamma = np.zeros((gammas.shape[-1],f))\n",
    "    \n",
    "    # loop over folds:\n",
    "    # select one row of 'idx' for testing, all other rows for training\n",
    "    # call variables (indices) for training and testing 'train' and 'test'\n",
    "    for ifold in np.arange(f):\n",
    "        test=idx[ifold, :]\n",
    "        train=idx[np.arange(f) != ifold, :].flatten()\n",
    "        \n",
    "        # loop over gammas\n",
    "        for igamma in range(gammas.shape[-1]):\n",
    "            # each gamma is fed into the inner CV via the function 'crossvalidate_lda'\n",
    "            # the resulting variable is called 'testgamma'\n",
    "            testgamma[igamma,ifold] =crossvalidate_lda(X[:,train],Y[train],f-1,gammas[igamma])\n",
    "        # find the the highest accuracy of gammas for a given fold and use it to train an LDA on the training data\n",
    "        hgamma_idx=testgamma[:,ifold].argmax()\n",
    "        hgamma =gammas[hgamma_idx]\n",
    "        w,b = train_lda(X[:,train],Y[train],hgamma)\n",
    "        # calculate the accuracy for this LDA classifier on the test data\n",
    "        pred=np.sign(w.dot(X[:,test]) -b)\n",
    "        acc_test[ifold] = (pred ==Y[test]).mean()\n",
    "\n",
    "    # do some plotting\n",
    "    pl.figure()\n",
    "    pl.boxplot(testgamma.T)\n",
    "    pl.xticks(np.arange(gammas.shape[-1])+1,gammas)\n",
    "    pl.xlabel('$\\gamma$')\n",
    "    pl.ylabel('Accuracy')\n",
    "    pl.savefig('cv_nested-boxplot.pdf')\n",
    "\n",
    "    return acc_test,testgamma"
   ],
   "outputs": [],
   "execution_count": 9
  },
  {
   "cell_type": "code",
   "metadata": {
    "collapsed": true,
    "ExecuteTime": {
     "end_time": "2025-03-18T12:39:16.299100Z",
     "start_time": "2025-03-18T12:39:16.295966Z"
    }
   },
   "source": [
    "def crossvalidate_lda(X,Y,f,gamma):\n",
    "    ''' \n",
    "    Test generalization performance of shrinkage lda\n",
    "    Input:\tX\tdata (dims-by-samples)\n",
    "                Y\tlabels (1-by-samples)\n",
    "                f\tnumber of cross-validation folds\n",
    "                trainfunction \ttrains linear classifier, returns weight vector and bias term\n",
    "    '''\n",
    "    N = f*int(np.floor(X.shape[-1]/f))\n",
    "    idx = np.reshape(np.arange(N),(f,int(np.floor(N/f))))\n",
    "    acc_test = np.zeros((f))\n",
    "    \n",
    "    # loop over folds\n",
    "    # select one row of idx for testing, all others for training\n",
    "    # call variables (indices) for training and testing 'train' and 'test'\n",
    "    for ifold in np.arange(f):\n",
    "        test=idx[ifold,:]\n",
    "        train=idx[np.arange(f)!=ifold, :]\n",
    "        # train LDA classifier with training data and given gamma:\n",
    "        w, b = train_lda(X[:, train],Y[train],gamma)\n",
    "        # test classifier on test data:\n",
    "        pred=np.sign(w.dot(X[:, test])-b)\n",
    "        acc_test[ifold] = (pred==Y[test]).mean()\n",
    "    return acc_test.mean()"
   ],
   "outputs": [],
   "execution_count": 10
  },
  {
   "cell_type": "code",
   "metadata": {
    "collapsed": true,
    "ExecuteTime": {
     "end_time": "2025-03-18T12:39:16.312516Z",
     "start_time": "2025-03-18T12:39:16.308745Z"
    }
   },
   "source": [
    "def train_lda(X,Y,gamma):\n",
    "    '''\n",
    "    Train a nearest centroid classifier\n",
    "    '''\n",
    "    # class means\n",
    "    mupos = np.mean(X[:,Y>0],axis=1)\n",
    "    muneg = np.mean(X[:,Y<0],axis=1)\n",
    "\n",
    "    # inter and intra class covariance matrices\n",
    "    Sinter = np.outer(mupos-muneg,mupos-muneg)\n",
    "    #Sinter = sp.outer(muneg-mupos,muneg-mupos)\n",
    "    Sintra = np.cov(X[:,Y>0]) + np.cov(X[:,Y<0])\n",
    "    # shrink covariance matrix estimate\n",
    "    Sintra = (1 - gamma) * Sintra + gamma * (np.trace(Sintra) / Sintra.shape[0]) * np.eye(Sintra.shape[0])\n",
    "    # solve eigenproblem\n",
    "    eigvals, eigvecs = sp.linalg.eig(Sinter,Sintra)\n",
    "    # weight vector\n",
    "    w = eigvecs[:,eigvals.argmax()]\n",
    "    if np. dot (w, mupos)<np.dot (w, muneg) :\n",
    "        w =-w\n",
    "    # offset\n",
    "    b = (w.dot(mupos) + w.dot(muneg))/2.\n",
    "    # return the weight vector\n",
    "    return w,b"
   ],
   "outputs": [],
   "execution_count": 11
  },
  {
   "cell_type": "code",
   "metadata": {
    "ExecuteTime": {
     "end_time": "2025-03-18T12:40:29.358007Z",
     "start_time": "2025-03-18T12:39:16.323291Z"
    }
   },
   "source": [
    "X,Y = load_data('bcidata.mat')\n",
    "gammas=np.array([0,.005,.05,.5,1])\n",
    "a,b = crossvalidate_nested(X,Y,10,gammas)\n",
    "print(a)\n",
    "print(b)\n"
   ],
   "outputs": [
    {
     "name": "stdout",
     "output_type": "stream",
     "text": [
      "(310, 500)\n",
      "> \u001B[0;32m/var/folders/kp/_t4rfbss0kl95l2rb101h4_h0000gn/T/ipykernel_46208/4252259669.py\u001B[0m(16)\u001B[0;36mcrossvalidate_nested\u001B[0;34m()\u001B[0m\n",
      "\u001B[0;32m     14 \u001B[0;31m    \u001B[0midx\u001B[0m \u001B[0;34m=\u001B[0m \u001B[0mnp\u001B[0m\u001B[0;34m.\u001B[0m\u001B[0mreshape\u001B[0m\u001B[0;34m(\u001B[0m\u001B[0mnp\u001B[0m\u001B[0;34m.\u001B[0m\u001B[0marange\u001B[0m\u001B[0;34m(\u001B[0m\u001B[0mN\u001B[0m\u001B[0;34m)\u001B[0m\u001B[0;34m,\u001B[0m\u001B[0;34m(\u001B[0m\u001B[0mf\u001B[0m\u001B[0;34m,\u001B[0m\u001B[0mint\u001B[0m\u001B[0;34m(\u001B[0m\u001B[0mnp\u001B[0m\u001B[0;34m.\u001B[0m\u001B[0mfloor\u001B[0m\u001B[0;34m(\u001B[0m\u001B[0mN\u001B[0m\u001B[0;34m/\u001B[0m\u001B[0mf\u001B[0m\u001B[0;34m)\u001B[0m\u001B[0;34m)\u001B[0m\u001B[0;34m)\u001B[0m\u001B[0;34m)\u001B[0m\u001B[0;34m\u001B[0m\u001B[0;34m\u001B[0m\u001B[0m\n",
      "\u001B[0m\u001B[0;32m     15 \u001B[0;31m    \u001B[0mpdb\u001B[0m\u001B[0;34m.\u001B[0m\u001B[0mset_trace\u001B[0m\u001B[0;34m(\u001B[0m\u001B[0;34m)\u001B[0m\u001B[0;34m\u001B[0m\u001B[0;34m\u001B[0m\u001B[0m\n",
      "\u001B[0m\u001B[0;32m---> 16 \u001B[0;31m    \u001B[0macc_test\u001B[0m \u001B[0;34m=\u001B[0m \u001B[0mnp\u001B[0m\u001B[0;34m.\u001B[0m\u001B[0mzeros\u001B[0m\u001B[0;34m(\u001B[0m\u001B[0;34m(\u001B[0m\u001B[0mf\u001B[0m\u001B[0;34m)\u001B[0m\u001B[0;34m)\u001B[0m\u001B[0;34m\u001B[0m\u001B[0;34m\u001B[0m\u001B[0m\n",
      "\u001B[0m\u001B[0;32m     17 \u001B[0;31m    \u001B[0mtestgamma\u001B[0m \u001B[0;34m=\u001B[0m \u001B[0mnp\u001B[0m\u001B[0;34m.\u001B[0m\u001B[0mzeros\u001B[0m\u001B[0;34m(\u001B[0m\u001B[0;34m(\u001B[0m\u001B[0mgammas\u001B[0m\u001B[0;34m.\u001B[0m\u001B[0mshape\u001B[0m\u001B[0;34m[\u001B[0m\u001B[0;34m-\u001B[0m\u001B[0;36m1\u001B[0m\u001B[0;34m]\u001B[0m\u001B[0;34m,\u001B[0m\u001B[0mf\u001B[0m\u001B[0;34m)\u001B[0m\u001B[0;34m)\u001B[0m\u001B[0;34m\u001B[0m\u001B[0;34m\u001B[0m\u001B[0m\n",
      "\u001B[0m\u001B[0;32m     18 \u001B[0;31m\u001B[0;34m\u001B[0m\u001B[0m\n",
      "\u001B[0m\n",
      "[0.88 0.98 0.98 0.92 0.96 0.98 0.92 0.96 0.94 0.94]\n",
      "[[0.84666667 0.8        0.80666667 0.83111111 0.82       0.76666667\n",
      "  0.82666667 0.83333333 0.85777778 0.79777778]\n",
      " [0.94666667 0.93111111 0.92666667 0.93111111 0.94222222 0.92222222\n",
      "  0.94888889 0.93333333 0.94       0.94      ]\n",
      " [0.95555556 0.94       0.94222222 0.95111111 0.94888889 0.93555556\n",
      "  0.95111111 0.95333333 0.95777778 0.94222222]\n",
      " [0.91333333 0.91333333 0.91555556 0.90666667 0.92222222 0.89777778\n",
      "  0.91111111 0.90666667 0.92       0.91555556]\n",
      " [0.66888889 0.66222222 0.65111111 0.66222222 0.66444444 0.66666667\n",
      "  0.66888889 0.67555556 0.66888889 0.67333333]]\n"
     ]
    },
    {
     "data": {
      "text/plain": [
       "<Figure size 640x480 with 1 Axes>"
      ],
      "image/png": "[encoded data removed]"
     },
     "metadata": {},
     "output_type": "display_data"
    }
   ],
   "execution_count": 12
  }
 ],
 "metadata": {
  "kernelspec": {
   "display_name": "Python 3 (ipykernel)",
   "language": "python",
   "name": "python3"
  },
  "language_info": {
   "codemirror_mode": {
    "name": "ipython",
    "version": 3
   },
   "file_extension": ".py",
   "mimetype": "text/x-python",
   "name": "python",
   "nbconvert_exporter": "python",
   "pygments_lexer": "ipython3",
   "version": "3.7.13"
  }
 },
 "nbformat": 4,
 "nbformat_minor": 2
}
